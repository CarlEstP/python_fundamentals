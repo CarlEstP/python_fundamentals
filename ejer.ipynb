{
 "cells": [
  {
   "cell_type": "markdown",
   "metadata": {},
   "source": [
    "Ejercicio 1. Función contar_caracteres :\n",
    "\n",
    "Crea una función que cuente el número de caracteres en una cadena de texto dada"
   ]
  },
  {
   "cell_type": "code",
   "execution_count": 17,
   "metadata": {},
   "outputs": [
    {
     "name": "stdout",
     "output_type": "stream",
     "text": [
      "El total de caracteres de las frase es de: 12\n"
     ]
    }
   ],
   "source": [
    "def contar_caracteres(cadena):\n",
    "    return sum(1 for c in cadena if c != \" \")\n",
    "\n",
    "# Ejemplo de uso\n",
    "cadena = \"holaaa que tal\"\n",
    "num_caracteres = contar_caracteres(cadena)\n",
    "print(f\"El total de caracteres de las frase es de: {num_caracteres}\")"
   ]
  },
  {
   "cell_type": "markdown",
   "metadata": {},
   "source": [
    "Ejercicio 2. Función calcular_promedio:\n",
    "\n",
    "Crea una función que calcule el promedio de una lista de números."
   ]
  },
  {
   "cell_type": "code",
   "execution_count": 26,
   "metadata": {},
   "outputs": [
    {
     "name": "stdout",
     "output_type": "stream",
     "text": [
      "El promedio de la lista es: 12.0\n"
     ]
    }
   ],
   "source": [
    "def calcular_promedio(lista_numeros):\n",
    "    return sum([num for num in lista_numeros]) / len(lista_numeros) if lista_numeros else 0\n",
    "\n",
    "# Ejemplo de uso\n",
    "numeros = [8, 10, 12, 14, 16]\n",
    "promedio = calcular_promedio(numeros)\n",
    "print(f\"El promedio de la lista es: {promedio}\")"
   ]
  },
  {
   "cell_type": "markdown",
   "metadata": {},
   "source": [
    "Ejercicio 3. Función encontrar_duplicado:\n",
    "\n",
    "Crea una función que busque y devuelva el primer elemento duplicado en una lista dada."
   ]
  },
  {
   "cell_type": "code",
   "execution_count": 27,
   "metadata": {},
   "outputs": [
    {
     "name": "stdout",
     "output_type": "stream",
     "text": [
      "El primer elemento duplicado es: uno\n"
     ]
    }
   ],
   "source": [
    "def encontrar_duplicado(lista):\n",
    "    #creamos lista auxiliar vacia, e iremos guardando uno a uno los valores de la lista original hastra que encuentra coincidencia\n",
    "    elementos_vistos = set()\n",
    "\n",
    "    for elemento in lista:\n",
    "        if elemento in elementos_vistos:\n",
    "            return elemento\n",
    "        elementos_vistos.add(elemento)\n",
    "    return None\n",
    "\n",
    "# Ejemplo de uso\n",
    "lista = [\"uno\", 2, \"dos\", 4, \"tres\", \"uno\", 6, \"dos\"]\n",
    "duplicado = encontrar_duplicado(lista)\n",
    "print(f\"El primer elemento duplicado es: {duplicado}\")"
   ]
  },
  {
   "cell_type": "markdown",
   "metadata": {},
   "source": [
    "Ejercicio 4. Función enmascarado_datos :\n",
    "\n",
    "Crea una función que convierta una variable en una cadena de texto y enmascare todos los caracteres con el carácter '#', excepto los últimos cuatro."
   ]
  },
  {
   "cell_type": "code",
   "execution_count": 28,
   "metadata": {},
   "outputs": [
    {
     "name": "stdout",
     "output_type": "stream",
     "text": [
      "El resultado tras enmascarar los datos es: #########7654\n"
     ]
    }
   ],
   "source": [
    "def enmascarado_datos(variable):\n",
    "    cadena = str(variable)\n",
    "    enmascarada = '#' * (len(cadena) - 4) + cadena[-4:]\n",
    "    return enmascarada\n",
    "\n",
    "# Ejemplo de uso\n",
    "variable = \"abcdefg987654\"\n",
    "variable_enmascarada = enmascarado_datos(variable)\n",
    "print(f\"El resultado tras enmascarar los datos es: {variable_enmascarada}\")"
   ]
  },
  {
   "cell_type": "markdown",
   "metadata": {},
   "source": [
    "Ejercicio 5. Función es_anagrama :\n",
    "\n",
    "Crea una función que determine si dos palabras son anagramas, es decir, si están formadas por las mismas letras pero en diferente orden."
   ]
  },
  {
   "cell_type": "code",
   "execution_count": 39,
   "metadata": {},
   "outputs": [
    {
     "name": "stdout",
     "output_type": "stream",
     "text": [
      " Las palabra1: roma, y la palabra 2: roma, son iguales \n"
     ]
    }
   ],
   "source": [
    "def es_anagrama(palabra1, palabra2):\n",
    "    # Convertir ambas palabras a minúsculas\n",
    "    palabra1 = palabra1.lower()\n",
    "    \n",
    "    \n",
    "    if palabra1 == palabra2:\n",
    "        return (\"son iguales \")\n",
    "    elif sorted(palabra1) == sorted(palabra2):\n",
    "      # usamos sorted para generar una lista ordenada donde cada elemento es un caracter de nuestra lista\n",
    "      # Al estar ordenadas, si se comparan y son iguales, es que son un anagrama\n",
    "      return (\"son anagramas\")\n",
    "    else:\n",
    "       return(\"no son anagramas\")\n",
    "\n",
    "# Ejemplo de uso\n",
    "palabra1 = \"roma\"\n",
    "palabra2 = \"roma\"\n",
    "\n",
    "resultado = es_anagrama(palabra1, palabra2)\n",
    "print(f\" La palabra1: {palabra1}, y la palabra 2: {palabra2}, {resultado}\")\n"
   ]
  },
  {
   "cell_type": "markdown",
   "metadata": {},
   "source": [
    "Ejercicio 6. Función buscar_nombre :\n",
    "\n",
    "Crea una función que solicite al usuario ingresar una lista de nombres y luego solicite un nombre para buscar en esa lista. Si el nombre está en la lista, se imprime un mensaje indicando que fue encontrado, de lo contrario, se lanza una excepción.\n",
    "\n",
    "Caso de uso:\n",
    "Incorpora los siguientes nombres a la lista y comprueba que la función funciona correctamente: \"Jaime\", \"Silvia\" y \"Ana\".\n"
   ]
  },
  {
   "cell_type": "code",
   "execution_count": 2,
   "metadata": {},
   "outputs": [
    {
     "name": "stdout",
     "output_type": "stream",
     "text": [
      "El nombre \"Silviaa\" no fue encontrado en la lista.\n"
     ]
    }
   ],
   "source": [
    "def buscar_nombre(lista_nombres):\n",
    "    nombre_a_buscar = input(\"Ingrese el nombre a buscar en la lista: \").strip()\n",
    "    # nombre_a_buscar = \"Silviaa\"\n",
    "        \n",
    "    if nombre_a_buscar in lista_nombres:\n",
    "      print(f'El nombre \"{nombre_a_buscar}\" fue encontrado en la lista.')\n",
    "    else:\n",
    "      print(f'El nombre \"{nombre_a_buscar}\" no fue encontrado en la lista.')\n",
    "\n",
    "# Ejemplo de uso\n",
    "lista_nombres = [\"Jaime\", \"Silvia\", \"Ana\"]\n",
    "buscar_nombre(lista_nombres)"
   ]
  },
  {
   "cell_type": "markdown",
   "metadata": {},
   "source": [
    "Ejercicio 7. Función fibonacci :\n",
    "\n",
    "Descripción:\n",
    "Crea una función que calcule el término n de la serie de Fibonacci utilizando recursión."
   ]
  },
  {
   "cell_type": "code",
   "execution_count": 5,
   "metadata": {},
   "outputs": [
    {
     "name": "stdout",
     "output_type": "stream",
     "text": [
      "El término 8 de la serie de Fibonacci, utilizando recursión es: 21\n"
     ]
    }
   ],
   "source": [
    "def fibonacci(n):\n",
    "    if n <= 0: return 0\n",
    "    elif n == 1: return 1\n",
    "    else:\n",
    "        return fibonacci(n-1) + fibonacci(n-2)\n",
    "\n",
    "# Ejemplo de uso\n",
    "n = 8\n",
    "print(f\"El término {n} de la serie de Fibonacci, utilizando recursión es: {fibonacci(n)}\")"
   ]
  },
  {
   "cell_type": "markdown",
   "metadata": {},
   "source": [
    "Ejercicio 8. Función encontrar_puesto_empleado :\n",
    "\n",
    "Descripción:\n",
    "Crea una función que tome un nombre completo y una lista de empleados, busque el nombre completo en la lista y devuelve el puesto del empleado si está en la lista, de lo contrario, devuelve un mensaje indicando que la persona no trabaja aquí.\n",
    "\n",
    "Caso de uso:\n",
    "empleados = [\n",
    "  {'nombre': \"Juan\", 'apellido': \"García\", 'puesto': \"Secretario\"},\n",
    "  {'nombre': \"Mabel\", 'apellido': \"García\", 'puesto': \"Product Manager\"},\n",
    "  {'nombre': \"Isabel\", 'apellido': \"Martín\", 'puesto': \"CEO\"}\n",
    "  ]"
   ]
  },
  {
   "cell_type": "code",
   "execution_count": 10,
   "metadata": {},
   "outputs": [
    {
     "name": "stdout",
     "output_type": "stream",
     "text": [
      "La persona no trabaja aquí.\n"
     ]
    }
   ],
   "source": [
    "def encontrar_puesto_empleado(nombre_completo, lista_empleados):\n",
    "    for empleado in lista_empleados:\n",
    "        nombre_completo_empleado = empleado['nombre'] + \" \" + empleado['apellido']\n",
    "        if nombre_completo_empleado.lower() == nombre_completo.lower():\n",
    "            return \"La persona ocupa el puesto de: \" + empleado['puesto']\n",
    "    return \"La persona no trabaja aquí.\"\n",
    "\n",
    "# Ejemplo de uso\n",
    "lista_empleados = [\n",
    "    {'nombre': \"Juan\", 'apellido': \"García\", 'puesto': \"Secretario\"},\n",
    "    {'nombre': \"Mabel\", 'apellido': \"García\", 'puesto': \"Product Manager\"},\n",
    "    {'nombre': \"Isabel\", 'apellido': \"Martín\", 'puesto': \"CEO\"}\n",
    "]\n",
    "\n",
    "nombre_completo = \"Isabel Martínn\"\n",
    "print(encontrar_puesto_empleado(nombre_completo, lista_empleados))\n"
   ]
  },
  {
   "cell_type": "markdown",
   "metadata": {},
   "source": [
    "Ejercicio 9. Función cubo_numero usando lambdas:\n",
    "\n",
    "Descripción:\n",
    "Crea una función que calcule el cubo de un número dado mediante una función lambda"
   ]
  },
  {
   "cell_type": "code",
   "execution_count": 12,
   "metadata": {},
   "outputs": [
    {
     "name": "stdout",
     "output_type": "stream",
     "text": [
      "El cubo de 5 es: 125\n"
     ]
    }
   ],
   "source": [
    "cubo = (lambda x: x ** 3)\n",
    "\n",
    "# Ejemplo de uso\n",
    "numero = 5\n",
    "print(f\"El cubo de {numero} es: {cubo(numero)}\")"
   ]
  },
  {
   "cell_type": "markdown",
   "metadata": {},
   "source": [
    "Ejercicio 10. Función resto_division usando lambdas:\n",
    "\n",
    "Crea una función lambda que calcule el resto de la división entre dos números dados."
   ]
  },
  {
   "cell_type": "code",
   "execution_count": 14,
   "metadata": {},
   "outputs": [
    {
     "name": "stdout",
     "output_type": "stream",
     "text": [
      "El resto de la división de 20 y 15 es: 5\n"
     ]
    }
   ],
   "source": [
    "resto = (lambda x, y: x % y)\n",
    "\n",
    "# Ejemplo de uso\n",
    "num1 = 20\n",
    "num2 = 15\n",
    "print(f\"El resto de la división de {num1} y {num2} es: {resto(num1, num2)}\")"
   ]
  },
  {
   "cell_type": "markdown",
   "metadata": {},
   "source": [
    "Ejercicio 11. Función numeros_pares usando lambdas y filter\n",
    "\n",
    "Crea una función lambda que filtre los números pares de una lista dada.\n",
    "\n",
    "Caso de uso: lista_numeros = [24, 56, 2.3, 19, -1, 0]"
   ]
  },
  {
   "cell_type": "code",
   "execution_count": 20,
   "metadata": {},
   "outputs": [
    {
     "name": "stdout",
     "output_type": "stream",
     "text": [
      "Dada la lista [24, 56, 2.3, 19, -1, 0] \n",
      " los numeros pares son: [24, 56, 0]\n"
     ]
    }
   ],
   "source": [
    "lista_numeros = [24, 56, 2.3, 19, -1, 0]\n",
    "\n",
    "filtrar_pares = (lambda x: x % 2 == 0)\n",
    "\n",
    "numeros_pares = list(filter(filtrar_pares, lista_numeros))\n",
    "\n",
    "# Caso de uso\n",
    "print(f\"Dada la lista {lista_numeros} \\nlos numeros pares son: {numeros_pares}\")\n"
   ]
  },
  {
   "cell_type": "markdown",
   "metadata": {},
   "source": [
    "Ejercicio 12. Función numeros_suma usando lambdas y map :\n",
    "\n",
    "Crea una función lambda que sume 3 a cada número de una lista dada.\n",
    "\n",
    "Caso de uso: lista_numeros = [24, 56, 2.3, 19, -1, 0]"
   ]
  },
  {
   "cell_type": "code",
   "execution_count": 21,
   "metadata": {},
   "outputs": [
    {
     "name": "stdout",
     "output_type": "stream",
     "text": [
      "Dada la lista [24, 56, 2.3, 19, -1, 0] \n",
      " la nueva lista después de sumar 3 a cada elemento es: [27, 59, 5.3, 22, 2, 3]\n"
     ]
    }
   ],
   "source": [
    "lista_numeros = [24, 56, 2.3, 19, -1, 0]\n",
    "\n",
    "sumar_tres = lambda x: x + 3\n",
    "\n",
    "lista_sumar_tres = list(map(sumar_tres, lista_numeros))\n",
    "\n",
    "# Imprimir el resultado\n",
    "print(f\"Dada la lista {lista_numeros} \\nla nueva lista después de sumar 3 a cada elemento es: {lista_sumar_tres}\")"
   ]
  },
  {
   "cell_type": "markdown",
   "metadata": {},
   "source": [
    "Ejercicio 13. Función sumar_listas usando lambdas:\n",
    "\n",
    "Crea una función lambda que sume elementos correspondientes de dos listas dadas.\n",
    "\n",
    "Caso de uso:\n",
    "lista_numeros_1 = [1, 4, 5, 6 , 7 , 7] ;\n",
    "lista_numeros_2 = [3, 11, 34, 56]"
   ]
  },
  {
   "cell_type": "code",
   "execution_count": 22,
   "metadata": {},
   "outputs": [
    {
     "name": "stdout",
     "output_type": "stream",
     "text": [
      "Dada la lista [1, 4, 5, 6, 7, 7] \n",
      "y la lista [3, 11, 34, 56] \n",
      "la nueva lista después de sumar sus elementos correspondientes es: [4, 15, 39, 62]\n"
     ]
    }
   ],
   "source": [
    "lista_numeros_1 = [1, 4, 5, 6, 7, 7]\n",
    "lista_numeros_2 = [3, 11, 34, 56]\n",
    "\n",
    "sumar_elementos = lambda x, y: x + y\n",
    "\n",
    "lista_suma_elementos = list(map(sumar_elementos, lista_numeros_1, lista_numeros_2))\n",
    "\n",
    "# Imprimir el resultado\n",
    "print(f\"Dada la lista {lista_numeros_1} \\ny la lista {lista_numeros_2} \\nla nueva lista después de sumar sus elementos correspondientes es: {lista_suma_elementos}\")"
   ]
  },
  {
   "cell_type": "markdown",
   "metadata": {},
   "source": [
    "Ejercicio 14. No te vayas por las ramas :\n",
    "\n",
    "Descripción:\n",
    "Crea la clase Arbol , define un árbol genérico con un tronco y ramas como atributos. \n",
    "Los métodos disponibles son: crecer_tronco , nueva_rama , crecer_ramas , quitar_rama e info_arbol. \n",
    "El objetivo es implementar estos métodos para manipular la estructura del árbol.\n",
    "\n",
    "Código a seguir:\n",
    "1. Inicializar un árbol con un tronco de longitud 1 y una lista vacía de ramas.\n",
    "2. Implementar el método crecer_tronco para aumentar la longitud del tronco en una unidad.\n",
    "3. Implementar el método nueva_rama para agregar una nueva rama de longitud 1 a la lista de ramas.\n",
    "4. Implementar el método crecer_ramas para aumentar en una unidad la longitud de todas las ramas existentes.\n",
    "5. Implementar el método quitar_rama para eliminar una rama en una posición específica.\n",
    "6. Implementar el método info_arbol para devolver información sobre la longitud del tronco, el número de ramas y las longitudes de las mismas.\n",
    "\n",
    "Caso de uso:\n",
    "1. Crear un árbol.\n",
    "2. Hacer crecer el tronco del árbol una unidad.\n",
    "3. Añadir una nueva rama al árbol.\n",
    "4. Hacer crecer todas las ramas del árbol una unidad.\n",
    "5. Añadir dos nuevas ramas al árbol.\n",
    "6. Retirar la rama situada en la posición 2.\n",
    "7. Obtener información sobre el árbol"
   ]
  },
  {
   "cell_type": "code",
   "execution_count": 67,
   "metadata": {},
   "outputs": [
    {
     "name": "stdout",
     "output_type": "stream",
     "text": [
      "La longitud del tronco es de: 2 \n",
      "\n",
      "El numero de ramas es de: 2 \n",
      "\n",
      "La longitud de cada rama es de: [2, 1] \n",
      "\n"
     ]
    }
   ],
   "source": [
    "class Arbol():\n",
    "  def __init__(self):\n",
    "    self.tronco = 1\n",
    "    self.ramas = []\n",
    "\n",
    "  def crecer_tronco(self):\n",
    "    self.tronco += 1\n",
    "  \n",
    "  def nueva_rama(self):\n",
    "    self.ramas.append(1)\n",
    "  \n",
    "  def crecer_ramas(self):\n",
    "    for i, rama in enumerate(self.ramas):\n",
    "      self.ramas[i] = rama + 1\n",
    "\n",
    "  def quitar_rama(self, posicion):\n",
    "    self.ramas.pop(posicion)\n",
    "  \n",
    "  def info_arbol(self):\n",
    "    print(f\"La longitud del tronco es de: {self.tronco} \\n\")\n",
    "    print(f\"El numero de ramas es de: {len(self.ramas)} \\n\")\n",
    "    print(f\"La longitud de cada rama es de: {self.ramas} \\n\")\n",
    "\n",
    "mi_arbol = Arbol()\n",
    "mi_arbol.crecer_tronco()\n",
    "mi_arbol.nueva_rama()\n",
    "mi_arbol.crecer_ramas()\n",
    "mi_arbol.nueva_rama()\n",
    "mi_arbol.nueva_rama()\n",
    "mi_arbol.quitar_rama(2)\n",
    "mi_arbol.info_arbol()"
   ]
  },
  {
   "cell_type": "markdown",
   "metadata": {},
   "source": [
    "Ejercicio 15. Clase UsuarioBanco :\n",
    "\n",
    "Descripción:\n",
    "Crea la clase UsuarioBanco, representa a un usuario de un banco con su nombre, saldo y si tiene o no cuenta corriente. \n",
    "Proporciona métodos para realizar operaciones como retirar dinero, transferir dinero desde otro usuario y agregar dinero al saldo.\n",
    "\n",
    "Código a seguir:\n",
    "1. Inicializar un usuario con su nombre, saldo y si tiene o no cuenta corriente mediante True y False .\n",
    "2. Implementar el método retirar_dinero para retirar dinero del saldo del usuario. Lanzará un error en caso de no poder hacerse.\n",
    "3. Implementar el método transferir_dinero para realizar una transferencia desde otro usuario al usuario actual. Lanzará un error en caso de no poder hacerse.\n",
    "4. Implementar el método agregar_dinero para agregar dinero al saldo del usuario.\n",
    "\n",
    "Caso de uso:\n",
    "1. Crear dos usuarios: \"Alicia\" con saldo inicial de 100 y \"Bob\" con saldo inicial de 50, ambos con cuenta corriente.\n",
    "2. Agregar 20 unidades de saldo de \"Alicia\".\n",
    "3. Hacer una transferencia de 80 unidades desde \"Bob\" a \"Alicia\".\n",
    "4. Retirar 50 unidades de saldo a \"Alicia\"."
   ]
  },
  {
   "cell_type": "code",
   "execution_count": 79,
   "metadata": {},
   "outputs": [
    {
     "name": "stdout",
     "output_type": "stream",
     "text": [
      "20 unidades agregadas. Saldo actual: 120\n",
      "No se puede transferir 80. Saldo insuficiente en la cuenta de Bob, que solo tiene 50.\n",
      "No se puede retirar 50 unidades. Saldo insuficiente.\n"
     ]
    }
   ],
   "source": [
    "class UsuarioBanco:\n",
    "    def __init__(self, nombre, saldo, tiene_cuenta):\n",
    "        self.nombre = nombre\n",
    "        self.saldo = saldo\n",
    "        self.cuenta_corriente = tiene_cuenta\n",
    "\n",
    "    def retirar_dinero(self, cantidad):\n",
    "        if cantidad > self.saldo:\n",
    "            self.saldo -= cantidad\n",
    "            print(f\"{cantidad} unidades retiradas. Saldo actual: {self.saldo}\")\n",
    "        else:\n",
    "            print(f\"No se puede retirar {cantidad} unidades. Saldo insuficiente.\")\n",
    "\n",
    "    def transferir_dinero(self, otro_usuario, cantidad):\n",
    "        if cantidad < otro_usuario.saldo:\n",
    "            otro_usuario.retirar_dinero(cantidad)\n",
    "            self.agregar_dinero(cantidad)\n",
    "            print(f\"{cantidad} unidades transferidas de {otro_usuario.nombre} a {self.nombre}.\")\n",
    "        else:\n",
    "            print(f\"No se puede transferir {cantidad}. Saldo insuficiente en la cuenta de {otro_usuario.nombre}, que solo tiene {otro_usuario.saldo}.\")\n",
    "\n",
    "    def agregar_dinero(self, cantidad):\n",
    "        self.saldo += cantidad\n",
    "        print(f\"{cantidad} unidades agregadas. Saldo actual: {self.saldo}\")\n",
    "\n",
    "# Caso de uso\n",
    "alicia = UsuarioBanco(\"Alicia\", 100, True)\n",
    "bob = UsuarioBanco(\"Bob\", 50, True)\n",
    "\n",
    "# Agregar 20 unidades de saldo de \"Alicia\"\n",
    "alicia.agregar_dinero(20)\n",
    "\n",
    "# Hacer una transferencia de 80 unidades desde \"Bob\" a \"Alicia\"\n",
    "alicia.transferir_dinero(bob, 80)\n",
    "\n",
    "# Retirar 50 unidades de saldo a \"Alicia\"\n",
    "alicia.retirar_dinero(50)"
   ]
  },
  {
   "cell_type": "code",
   "execution_count": 84,
   "metadata": {},
   "outputs": [
    {
     "name": "stdout",
     "output_type": "stream",
     "text": [
      "20 unidades agregadas a la cuenta de Alicia. Saldo actual: 120\n",
      "No se puede transferir 80. Saldo insuficiente en la cuenta de Bob, que solo tiene 50.\n",
      "50 unidades retiradas de la cuenta de Alicia. Saldo actual: 70\n"
     ]
    }
   ],
   "source": [
    "class UsuarioBanco:\n",
    "    def __init__(self, nombre, saldo, tiene_cuenta):\n",
    "        self.nombre = nombre\n",
    "        self.saldo = saldo\n",
    "        self.cuenta_corriente = tiene_cuenta\n",
    "\n",
    "    def retirar_dinero(self, cantidad):\n",
    "        if int(cantidad) < int(self.saldo):\n",
    "            self.saldo -= cantidad\n",
    "            print(f\"{cantidad} unidades retiradas de la cuenta de {self.nombre}. Saldo actual: {self.saldo}\")\n",
    "        else:\n",
    "            print(f\"No se puede retirar {cantidad} unidades. Saldo insuficiente en la cuenta de {self.nombre}.\")\n",
    "\n",
    "    def transferir_dinero(self, otro_usuario, cantidad):\n",
    "        if cantidad < otro_usuario.saldo:\n",
    "            otro_usuario.retirar_dinero(cantidad)\n",
    "            self.agregar_dinero(cantidad)\n",
    "            print(f\"{cantidad} unidades transferidas de {otro_usuario.nombre} a {self.nombre}.\")\n",
    "        else:\n",
    "            print(f\"No se puede transferir {cantidad}. Saldo insuficiente en la cuenta de {otro_usuario.nombre}, que solo tiene {otro_usuario.saldo}.\")\n",
    "\n",
    "    def agregar_dinero(self, cantidad):\n",
    "        self.saldo += cantidad\n",
    "        print(f\"{cantidad} unidades agregadas a la cuenta de {self.nombre}. Saldo actual: {self.saldo}\")\n",
    "\n",
    "# Caso de uso\n",
    "alicia = UsuarioBanco(\"Alicia\", 100, True)\n",
    "bob = UsuarioBanco(\"Bob\", 50, True)\n",
    "\n",
    "# Agregar 20 unidades de saldo de \"Alicia\"\n",
    "alicia.agregar_dinero(20)\n",
    "\n",
    "# Hacer una transferencia de 80 unidades desde \"Bob\" a \"Alicia\"\n",
    "alicia.transferir_dinero(bob, 80)\n",
    "\n",
    "# Retirar 50 unidades de saldo a \"Alicia\"\n",
    "alicia.retirar_dinero(50)"
   ]
  },
  {
   "cell_type": "markdown",
   "metadata": {},
   "source": [
    "Ejercicio 16. Función procesar_texto :\n",
    "\n",
    "Crea una función llamada procesar_texto que procesa un texto según la opción especificada: contar_palabras , reemplazar_palabras , eliminar_palabra. \n",
    "\n",
    "Estas opciones son otras funciones que tenemos que definir primero y llamar dentro de la función procesar_texto.\n",
    "\n",
    "Código a seguir:\n",
    "1. Crear una función contar_palabras para contar el número de veces que aparece cada palabra en el texto. Tiene que devolver un diccionario.\n",
    "2. Crear una función reemplazar_palabras para remplazar una palabra_original del texto por una palabra_nueva . Tiene que devolver el texto con el remplazo de palabras.\n",
    "3. Crear una función eliminar_palabra para eliminar una palabra del texto. Tiene que devolver el texto con la palabra eliminada.\n",
    "4. Crear la función procesar_texto que tome un texto, una opción (entre \"contar\", \"reemplazar\", \"eliminar\") y un número de argumentos variable según la opción indicada.\n",
    "\n",
    "Caso de uso:\n",
    "texto = \"Este es un ejemplo de texto. Este texto contiene palabras repetidas.\"\n",
    "\n",
    "Dado el texto de ejemplo, llama a la función procesar_texto para probar sus funcionalidades: \n",
    "- Cuenta el número de veces que aparece cada palabra.\n",
    "- Reemplaza la palabra texto por relato.\n",
    "- Elimina la palabra ejemplo."
   ]
  },
  {
   "cell_type": "code",
   "execution_count": 85,
   "metadata": {},
   "outputs": [
    {
     "name": "stdout",
     "output_type": "stream",
     "text": [
      "Resultado de contar palabras: {'de': 1, 'es': 1, 'contiene': 1, 'palabras': 1, 'un': 1, 'texto': 1, 'ejemplo': 1, 'Este': 2, 'repetidas.': 1, 'texto.': 1}\n",
      "Resultado de reemplazar palabras: Este es un ejemplo de relato. Este relato contiene palabras repetidas.\n",
      "Resultado de eliminar palabra: Este es un de texto. Este texto contiene palabras repetidas.\n"
     ]
    }
   ],
   "source": [
    "# 1. Función contar_palabras\n",
    "def contar_palabras(texto):\n",
    "    palabras = texto.split()\n",
    "    contador = {palabra: palabras.count(palabra) for palabra in set(palabras)}\n",
    "    return contador\n",
    "\n",
    "# 2. Función reemplazar_palabras\n",
    "def reemplazar_palabras(texto, palabra_original, palabra_nueva):\n",
    "    return texto.replace(palabra_original, palabra_nueva)\n",
    "\n",
    "# 3. Función eliminar_palabra\n",
    "def eliminar_palabra(texto, palabra):\n",
    "    palabras = texto.split()\n",
    "    palabras = [p for p in palabras if p != palabra]\n",
    "    return ' '.join(palabras)\n",
    "\n",
    "# 4. Función procesar_texto\n",
    "def procesar_texto(texto, opcion, *args):\n",
    "    if opcion == \"contar\":\n",
    "        return contar_palabras(texto)\n",
    "    elif opcion == \"reemplazar\":\n",
    "        if len(args) != 2:\n",
    "            print(\"Error: Para la opción 'reemplazar' se necesitan dos argumentos: palabra_original y palabra_nueva.\")\n",
    "            return None\n",
    "        palabra_original, palabra_nueva = args\n",
    "        return reemplazar_palabras(texto, palabra_original, palabra_nueva)\n",
    "    elif opcion == \"eliminar\":\n",
    "        if len(args) != 1:\n",
    "            print(\"Error: Para la opción 'eliminar' se necesita un argumento: palabra.\")\n",
    "            return None\n",
    "        palabra = args[0]\n",
    "        return eliminar_palabra(texto, palabra)\n",
    "    else:\n",
    "        print(\"Error: Opción no válida. Las opciones disponibles son: 'contar', 'reemplazar', 'eliminar'.\")\n",
    "        return None\n",
    "\n",
    "# Caso de uso\n",
    "texto = \"Este es un ejemplo de texto. Este texto contiene palabras repetidas.\"\n",
    "\n",
    "# Cuenta el número de veces que aparece cada palabra\n",
    "resultado_contar = procesar_texto(texto, \"contar\")\n",
    "print(\"Resultado de contar palabras:\", resultado_contar)\n",
    "\n",
    "# Reemplaza la palabra \"texto\" por \"relato\"\n",
    "resultado_reemplazar = procesar_texto(texto, \"reemplazar\", \"texto\", \"relato\")\n",
    "print(\"Resultado de reemplazar palabras:\", resultado_reemplazar)\n",
    "\n",
    "# Elimina la palabra \"ejemplo\"\n",
    "resultado_eliminar = procesar_texto(texto, \"eliminar\", \"ejemplo\")\n",
    "print(\"Resultado de eliminar palabra:\", resultado_eliminar)"
   ]
  }
 ],
 "metadata": {
  "kernelspec": {
   "display_name": "Python 3",
   "language": "python",
   "name": "python3"
  },
  "language_info": {
   "codemirror_mode": {
    "name": "ipython",
    "version": 3
   },
   "file_extension": ".py",
   "mimetype": "text/x-python",
   "name": "python",
   "nbconvert_exporter": "python",
   "pygments_lexer": "ipython3",
   "version": "3.12.3"
  }
 },
 "nbformat": 4,
 "nbformat_minor": 2
}
